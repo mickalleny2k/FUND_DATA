{
 "cells": [
  {
   "attachments": {},
   "cell_type": "markdown",
   "id": "b90f3d40",
   "metadata": {},
   "source": [
    "*** Types in Mathematics ***\n",
    "\n",
    "# REALS\n",
    "\n",
    "$ \\mathbb{R} $\n",
    "\n",
    "![Real Number Line](https://upload.wikimedia.org/wikipedia/commons/thumb/d/d7/Real_number_line.svg/689px-Real_number_line.svg.png)"
   ]
  },
  {
   "cell_type": "markdown",
   "id": "20143a9b",
   "metadata": {},
   "source": [
    "*A Problem with Using the Reals to Count*\n",
    "\n",
    "$x = 0.999\\dots$\n",
    "\n",
    "$\\Rightarrow 10x = 9.99\\dots$\n",
    "\n",
    "$\\Rightarrow 10x - x = 9.999\\ldots - 0.999\\dots$\n",
    "\n",
    "$\\Rightarrow 9x = 9.000\\ldots$\n",
    "\n",
    "$\\Rightarrow x = 1.000\\ldots$\n",
    "\n",
    "$\\Rightarrow x = 1$"
   ]
  },
  {
   "attachments": {},
   "cell_type": "markdown",
   "id": "11615457",
   "metadata": {},
   "source": [
    "# Integers\n",
    "\n",
    "$ \\mathbb{Z} = \\{\\ldots-3,-2,-1,0,1,2,3\\ldots\\} $"
   ]
  }
 ],
 "metadata": {
  "kernelspec": {
   "display_name": "Python 3 (ipykernel)",
   "language": "python",
   "name": "python3"
  },
  "language_info": {
   "codemirror_mode": {
    "name": "ipython",
    "version": 3
   },
   "file_extension": ".py",
   "mimetype": "text/x-python",
   "name": "python",
   "nbconvert_exporter": "python",
   "pygments_lexer": "ipython3",
   "version": "3.9.13"
  }
 },
 "nbformat": 4,
 "nbformat_minor": 5
}
