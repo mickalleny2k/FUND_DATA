{
 "cells": [
  {
   "cell_type": "markdown",
   "metadata": {},
   "source": [
    "# Random Numbers\n",
    "\n",
    "## https://docs.python.org/3/library/random.html?highlight=random#module-random"
   ]
  },
  {
   "cell_type": "code",
   "execution_count": 6,
   "metadata": {},
   "outputs": [],
   "source": [
    "import random\n",
    "import numpy as np\n",
    "import matplotlib.pyplot as plt"
   ]
  },
  {
   "cell_type": "code",
   "execution_count": 7,
   "metadata": {},
   "outputs": [],
   "source": [
    "rng = np.random.default_rng()"
   ]
  },
  {
   "cell_type": "code",
   "execution_count": 8,
   "metadata": {},
   "outputs": [
    {
     "name": "stdout",
     "output_type": "stream",
     "text": [
      "\u001b[1;31mSignature:\u001b[0m \u001b[0mrandom\u001b[0m\u001b[1;33m.\u001b[0m\u001b[0mrandint\u001b[0m\u001b[1;33m(\u001b[0m\u001b[0ma\u001b[0m\u001b[1;33m,\u001b[0m \u001b[0mb\u001b[0m\u001b[1;33m)\u001b[0m\u001b[1;33m\u001b[0m\u001b[1;33m\u001b[0m\u001b[0m\n",
      "\u001b[1;31mDocstring:\u001b[0m\n",
      "Return random integer in range [a, b], including both end points.\n",
      "        \n",
      "\u001b[1;31mFile:\u001b[0m      c:\\users\\fujitsu\\anaconda3\\lib\\random.py\n",
      "\u001b[1;31mType:\u001b[0m      method\n"
     ]
    }
   ],
   "source": [
    "?random.randint"
   ]
  },
  {
   "cell_type": "code",
   "execution_count": 9,
   "metadata": {},
   "outputs": [
    {
     "data": {
      "text/plain": [
       "12"
      ]
     },
     "execution_count": 9,
     "metadata": {},
     "output_type": "execute_result"
    }
   ],
   "source": [
    "random.randint(10,25)"
   ]
  },
  {
   "cell_type": "code",
   "execution_count": 10,
   "metadata": {},
   "outputs": [
    {
     "data": {
      "text/plain": [
       "[12, 24, 10, 14, 11, 28, 19, 10, 23, 24]"
      ]
     },
     "execution_count": 10,
     "metadata": {},
     "output_type": "execute_result"
    }
   ],
   "source": [
    "L = [random.randint(10,30) for i in range(100)]\n",
    "\n",
    "L[:10]"
   ]
  },
  {
   "cell_type": "code",
   "execution_count": 11,
   "metadata": {},
   "outputs": [
    {
     "data": {
      "text/plain": [
       "['Peugot', 'Peugot', 'Peugot', 'Ferrari', 'Ferrari']"
      ]
     },
     "execution_count": 11,
     "metadata": {},
     "output_type": "execute_result"
    }
   ],
   "source": [
    "makes = ['Ferrari', 'Porsche', 'Peugot', 'Skoda']\n",
    "\n",
    "random.choice(makes)\n",
    "\n",
    "random.choices(makes, k=5)"
   ]
  },
  {
   "cell_type": "code",
   "execution_count": 12,
   "metadata": {},
   "outputs": [],
   "source": [
    "letters = ['A', 'B', 'C', 'D', 'E', 'F', 'G', 'H']"
   ]
  },
  {
   "cell_type": "code",
   "execution_count": 13,
   "metadata": {},
   "outputs": [
    {
     "data": {
      "text/plain": [
       "['E', 'G', 'A', 'D', 'F', 'C', 'H', 'B']"
      ]
     },
     "execution_count": 13,
     "metadata": {},
     "output_type": "execute_result"
    }
   ],
   "source": [
    "random.shuffle(letters)\n",
    "\n",
    "letters"
   ]
  },
  {
   "cell_type": "code",
   "execution_count": 14,
   "metadata": {},
   "outputs": [
    {
     "data": {
      "text/plain": [
       "['E', 'D', 'F', 'G', 'A', 'H', 'C']"
      ]
     },
     "execution_count": 14,
     "metadata": {},
     "output_type": "execute_result"
    }
   ],
   "source": [
    "random.sample(letters, k=7)"
   ]
  },
  {
   "cell_type": "code",
   "execution_count": 15,
   "metadata": {},
   "outputs": [
    {
     "data": {
      "text/plain": [
       "0.14256641960690364"
      ]
     },
     "execution_count": 15,
     "metadata": {},
     "output_type": "execute_result"
    }
   ],
   "source": [
    "random.random()"
   ]
  },
  {
   "cell_type": "code",
   "execution_count": 16,
   "metadata": {},
   "outputs": [
    {
     "data": {
      "text/plain": [
       "array([0.10814573, 0.86577077, 0.13235652, 0.75258112, 0.29330592,\n",
       "       0.28027181, 0.78070504, 0.92263814, 0.19486388, 0.51739722,\n",
       "       0.14899263, 0.03500383, 0.16571043, 0.1051629 , 0.83647234,\n",
       "       0.64424577, 0.41994495, 0.34907447, 0.17506719, 0.94194716,\n",
       "       0.37081252, 0.62049628, 0.35980805, 0.97325305, 0.33819015,\n",
       "       0.65780282, 0.62229088, 0.47619721, 0.31129279, 0.86057666,\n",
       "       0.55932279, 0.87789237, 0.25534538, 0.14847769, 0.65087156,\n",
       "       0.86226294, 0.57793104, 0.81578213, 0.51956475, 0.46981039,\n",
       "       0.3869144 , 0.81088689, 0.43391874, 0.69525058, 0.12439234,\n",
       "       0.49327863, 0.85048255, 0.61489274, 0.06834069, 0.42646099,\n",
       "       0.39226749, 0.72685921, 0.56290317, 0.8775541 , 0.32197418,\n",
       "       0.832087  , 0.46270921, 0.39097677, 0.26096394, 0.03204062,\n",
       "       0.24969437, 0.35026852, 0.21104888, 0.25546362, 0.03151278,\n",
       "       0.49917479, 0.5950163 , 0.05079567, 0.8940009 , 0.18756591,\n",
       "       0.45762847, 0.43440265, 0.81245868, 0.81193956, 0.17468736,\n",
       "       0.57671802, 0.17438274, 0.97528237, 0.36736553, 0.1193635 ,\n",
       "       0.48622814, 0.21235239, 0.67421466, 0.74132756, 0.0952509 ,\n",
       "       0.96674946, 0.00922109, 0.05743393, 0.88867535, 0.85638838,\n",
       "       0.17498576, 0.86574068, 0.81257205, 0.74976169, 0.79830654,\n",
       "       0.31542753, 0.94424037, 0.76581632, 0.19557557, 0.3604314 ])"
      ]
     },
     "execution_count": 16,
     "metadata": {},
     "output_type": "execute_result"
    }
   ],
   "source": [
    "rng.random(100)"
   ]
  },
  {
   "cell_type": "code",
   "execution_count": 17,
   "metadata": {},
   "outputs": [
    {
     "data": {
      "text/plain": [
       "83.3040735926222"
      ]
     },
     "execution_count": 17,
     "metadata": {},
     "output_type": "execute_result"
    }
   ],
   "source": [
    "random.uniform(0.0, 100.0)"
   ]
  },
  {
   "cell_type": "code",
   "execution_count": 30,
   "metadata": {},
   "outputs": [
    {
     "name": "stdout",
     "output_type": "stream",
     "text": [
      "\u001b[1;31mDocstring:\u001b[0m\n",
      "normal(loc=0.0, scale=1.0, size=None)\n",
      "\n",
      "Draw random samples from a normal (Gaussian) distribution.\n",
      "\n",
      "The probability density function of the normal distribution, first\n",
      "derived by De Moivre and 200 years later by both Gauss and Laplace\n",
      "independently [2]_, is often called the bell curve because of\n",
      "its characteristic shape (see the example below).\n",
      "\n",
      "The normal distributions occurs often in nature.  For example, it\n",
      "describes the commonly occurring distribution of samples influenced\n",
      "by a large number of tiny, random disturbances, each with its own\n",
      "unique distribution [2]_.\n",
      "\n",
      "Parameters\n",
      "----------\n",
      "loc : float or array_like of floats\n",
      "    Mean (\"centre\") of the distribution.\n",
      "scale : float or array_like of floats\n",
      "    Standard deviation (spread or \"width\") of the distribution. Must be\n",
      "    non-negative.\n",
      "size : int or tuple of ints, optional\n",
      "    Output shape.  If the given shape is, e.g., ``(m, n, k)``, then\n",
      "    ``m * n * k`` samples are drawn.  If size is ``None`` (default),\n",
      "    a single value is returned if ``loc`` and ``scale`` are both scalars.\n",
      "    Otherwise, ``np.broadcast(loc, scale).size`` samples are drawn.\n",
      "\n",
      "Returns\n",
      "-------\n",
      "out : ndarray or scalar\n",
      "    Drawn samples from the parameterized normal distribution.\n",
      "\n",
      "See Also\n",
      "--------\n",
      "scipy.stats.norm : probability density function, distribution or\n",
      "    cumulative density function, etc.\n",
      "\n",
      "Notes\n",
      "-----\n",
      "The probability density for the Gaussian distribution is\n",
      "\n",
      ".. math:: p(x) = \\frac{1}{\\sqrt{ 2 \\pi \\sigma^2 }}\n",
      "                 e^{ - \\frac{ (x - \\mu)^2 } {2 \\sigma^2} },\n",
      "\n",
      "where :math:`\\mu` is the mean and :math:`\\sigma` the standard\n",
      "deviation. The square of the standard deviation, :math:`\\sigma^2`,\n",
      "is called the variance.\n",
      "\n",
      "The function has its peak at the mean, and its \"spread\" increases with\n",
      "the standard deviation (the function reaches 0.607 times its maximum at\n",
      ":math:`x + \\sigma` and :math:`x - \\sigma` [2]_).  This implies that\n",
      ":meth:`normal` is more likely to return samples lying close to the\n",
      "mean, rather than those far away.\n",
      "\n",
      "References\n",
      "----------\n",
      ".. [1] Wikipedia, \"Normal distribution\",\n",
      "       https://en.wikipedia.org/wiki/Normal_distribution\n",
      ".. [2] P. R. Peebles Jr., \"Central Limit Theorem\" in \"Probability,\n",
      "       Random Variables and Random Signal Principles\", 4th ed., 2001,\n",
      "       pp. 51, 51, 125.\n",
      "\n",
      "Examples\n",
      "--------\n",
      "Draw samples from the distribution:\n",
      "\n",
      ">>> mu, sigma = 0, 0.1 # mean and standard deviation\n",
      ">>> s = np.random.default_rng().normal(mu, sigma, 1000)\n",
      "\n",
      "Verify the mean and the variance:\n",
      "\n",
      ">>> abs(mu - np.mean(s))\n",
      "0.0  # may vary\n",
      "\n",
      ">>> abs(sigma - np.std(s, ddof=1))\n",
      "0.0  # may vary\n",
      "\n",
      "Display the histogram of the samples, along with\n",
      "the probability density function:\n",
      "\n",
      ">>> import matplotlib.pyplot as plt\n",
      ">>> count, bins, ignored = plt.hist(s, 30, density=True)\n",
      ">>> plt.plot(bins, 1/(sigma * np.sqrt(2 * np.pi)) *\n",
      "...                np.exp( - (bins - mu)**2 / (2 * sigma**2) ),\n",
      "...          linewidth=2, color='r')\n",
      ">>> plt.show()\n",
      "\n",
      "Two-by-four array of samples from N(3, 6.25):\n",
      "\n",
      ">>> np.random.default_rng().normal(3, 2.5, size=(2, 4))\n",
      "array([[-4.49401501,  4.00950034, -1.81814867,  7.29718677],   # random\n",
      "       [ 0.39924804,  4.68456316,  4.99394529,  4.84057254]])  # random\n",
      "\u001b[1;31mType:\u001b[0m      builtin_function_or_method\n"
     ]
    }
   ],
   "source": [
    "?rng.normal"
   ]
  },
  {
   "cell_type": "code",
   "execution_count": 19,
   "metadata": {},
   "outputs": [
    {
     "data": {
      "text/plain": [
       "array([ 0.01071608,  0.10799439, -0.04728184,  0.56054237, -1.74740528,\n",
       "        0.17737016,  0.05106816,  0.67733501, -2.48361768, -1.29933225,\n",
       "       -1.02565262, -1.2205801 , -0.68865558, -0.21212586,  1.35894818,\n",
       "        0.35219608,  1.12452684,  0.93035524,  0.07792162, -0.07907257,\n",
       "        0.33271774, -0.28782713, -1.53266772,  0.94130285, -1.68184665,\n",
       "       -1.12405684,  0.48612777, -0.52206551,  0.0726709 ,  1.05900781,\n",
       "       -0.12589109, -2.45826612,  0.39345587,  0.60412232, -0.40635113,\n",
       "        1.17048751,  0.56080916, -0.18696556,  0.77303855,  1.39433736,\n",
       "       -1.86161751, -1.14250414, -0.25853508,  0.39075982, -1.45137834,\n",
       "        0.43551018,  0.05900807, -0.20391807, -0.65691615, -0.08704549,\n",
       "       -0.66804579,  0.23493338, -0.14424575, -0.21363864, -0.46069371,\n",
       "        0.1686159 , -0.3511368 ,  0.25266253,  1.09031991, -0.50798163,\n",
       "        1.55771177,  1.0305106 , -0.40074664,  0.32329435,  1.57554254,\n",
       "        2.78573367,  0.63970648, -0.26769506, -1.06572588, -0.17437576,\n",
       "        0.69242889, -1.27165181,  0.52874169, -0.54160327, -1.12319985,\n",
       "       -1.00082342,  0.8065536 ,  0.7105874 , -0.80813373,  0.08628796,\n",
       "       -0.81330938,  0.50502412, -0.47822212,  0.67688236, -1.10354268,\n",
       "        1.58246762,  0.39649105, -0.25854681, -0.21364769, -0.33285146,\n",
       "        0.61903308,  0.78030429,  0.44904422,  1.0764325 ,  0.21753169,\n",
       "       -0.6043507 , -0.32641972, -1.83523481, -0.27655623, -0.0361586 ,\n",
       "        0.54079318,  0.80160943,  1.40673429,  0.54792844, -0.41558439,\n",
       "        1.32971502,  0.67866208,  0.0765728 , -1.05922478, -0.6244866 ,\n",
       "        1.20471377, -0.55007545,  0.68994572,  0.23743368, -0.60014856,\n",
       "       -0.4751916 ,  0.93323843,  0.95017981,  1.88724192, -0.89313268,\n",
       "        0.27996527,  0.29771858, -1.66048675, -0.01185293,  1.16099062,\n",
       "       -1.62960939, -2.52394976,  1.01124001,  0.86713671,  1.64375867,\n",
       "        0.16053   , -0.47049748, -0.73900203,  0.70364987,  0.78134728,\n",
       "       -1.20511557, -1.09394995, -0.54397902, -2.35663829,  0.65489365,\n",
       "        0.77033648,  0.54519172,  1.56227323,  0.91598322,  0.89934086,\n",
       "        0.07788138,  0.54849702, -2.00643797, -0.28497944, -0.37718151,\n",
       "        0.01779596,  0.09069927, -1.0848288 ,  1.55802854,  0.47937141,\n",
       "        0.58147846,  0.9961175 , -1.39100535,  1.09335956, -0.13748095,\n",
       "        1.18190144,  1.33589297,  0.63353849, -0.18203625, -3.08340979,\n",
       "        0.82890333, -1.21011107, -0.49770967,  0.6857792 , -0.54186883,\n",
       "        1.11753652,  0.10182276, -1.75280234, -0.41079382,  0.80780545,\n",
       "       -1.55218015,  0.5878803 , -0.11090094, -0.2455767 , -0.4660752 ,\n",
       "        0.25216   ,  0.12973419, -0.84308188, -0.27835569,  0.71456382,\n",
       "       -2.03795292,  1.76487824, -1.70408031, -0.2309479 ,  0.87314964,\n",
       "        1.05093934, -1.04824436,  0.41759457, -0.65236148,  0.98824601,\n",
       "        0.4806445 ,  1.78036357, -0.08420392,  0.26124252,  0.49348349])"
      ]
     },
     "execution_count": 19,
     "metadata": {},
     "output_type": "execute_result"
    }
   ],
   "source": [
    "rng.standard_normal(200)"
   ]
  },
  {
   "cell_type": "code",
   "execution_count": 20,
   "metadata": {},
   "outputs": [],
   "source": [
    "low = 1\n",
    "high = 191\n",
    "size = 191"
   ]
  },
  {
   "cell_type": "code",
   "execution_count": 21,
   "metadata": {},
   "outputs": [
    {
     "data": {
      "text/plain": [
       "array([161, 163,   3,  78,  63, 135, 129,  11, 165, 126,  60,   6,  30,\n",
       "       150, 160, 135, 157,  45,   1, 184, 163,  44,  27,  25,  60, 131,\n",
       "        75, 121, 154,  97,  15, 155, 145,  74,  99, 146,  62, 178,  80,\n",
       "       178,  46, 179, 149, 148, 104,  38, 124,  63, 177, 173,  54,  25,\n",
       "        76, 125,  89, 155,  29,  92,  82,  58, 161, 137, 128, 174, 160,\n",
       "       174, 131, 125, 186, 120, 103, 100, 162,  23, 112,  76,  23,  58,\n",
       "        40, 142,  92,  39, 130,  72, 161,  25, 183, 160,  96, 117, 155,\n",
       "        13,  73,  70, 171, 147, 190,  35, 136,  77, 132,  94, 166,  80,\n",
       "       140, 132,   6,  46,  33,  29, 154, 108, 158, 144,  54,  28,  33,\n",
       "         1, 110,  28,  86, 182,  48, 150,  11,  31, 146, 146,  57, 120,\n",
       "        14,  90, 151,  42, 110,  60,  84, 157,  42, 190,  44,  30, 151,\n",
       "       183,  28, 102,   7,  34, 106, 155,  49,  25, 105, 141, 166,  13,\n",
       "        60, 170, 106,  11, 156, 110,  86, 123, 173,   2, 134, 179, 107,\n",
       "        18,  51,  31,  84, 108, 190, 169,  63,   6, 134, 110, 162, 117,\n",
       "       176, 181, 124, 134,  46, 128,  54,   5, 144], dtype=int64)"
      ]
     },
     "execution_count": 21,
     "metadata": {},
     "output_type": "execute_result"
    }
   ],
   "source": [
    "rng = np.random.default_rng()\n",
    "rand_ints = rng.integers(low=low, high=high+1, size=size)\n",
    "rand_ints"
   ]
  },
  {
   "cell_type": "code",
   "execution_count": 22,
   "metadata": {},
   "outputs": [
    {
     "data": {
      "text/plain": [
       "(array([  1,   2,   3,   5,   6,   7,  11,  13,  14,  15,  18,  23,  25,\n",
       "         27,  28,  29,  30,  31,  33,  34,  35,  38,  39,  40,  42,  44,\n",
       "         45,  46,  48,  49,  51,  54,  57,  58,  60,  62,  63,  70,  72,\n",
       "         73,  74,  75,  76,  77,  78,  80,  82,  84,  86,  89,  90,  92,\n",
       "         94,  96,  97,  99, 100, 102, 103, 104, 105, 106, 107, 108, 110,\n",
       "        112, 117, 120, 121, 123, 124, 125, 126, 128, 129, 130, 131, 132,\n",
       "        134, 135, 136, 137, 140, 141, 142, 144, 145, 146, 147, 148, 149,\n",
       "        150, 151, 154, 155, 156, 157, 158, 160, 161, 162, 163, 165, 166,\n",
       "        169, 170, 171, 173, 174, 176, 177, 178, 179, 181, 182, 183, 184,\n",
       "        186, 190], dtype=int64),\n",
       " array([2, 1, 1, 1, 3, 1, 3, 2, 1, 1, 1, 2, 4, 1, 3, 2, 2, 2, 2, 1, 1, 1,\n",
       "        1, 1, 2, 2, 1, 3, 1, 1, 1, 3, 1, 2, 4, 1, 3, 1, 1, 1, 1, 1, 2, 1,\n",
       "        1, 2, 1, 2, 2, 1, 1, 2, 1, 1, 1, 1, 1, 1, 1, 1, 1, 2, 1, 2, 4, 1,\n",
       "        2, 2, 1, 1, 2, 2, 1, 2, 1, 1, 2, 2, 3, 2, 1, 1, 1, 1, 1, 2, 1, 3,\n",
       "        1, 1, 1, 2, 2, 2, 4, 1, 2, 1, 3, 3, 2, 2, 1, 2, 1, 1, 1, 2, 2, 1,\n",
       "        1, 2, 2, 1, 1, 2, 1, 1, 3], dtype=int64))"
      ]
     },
     "execution_count": 22,
     "metadata": {},
     "output_type": "execute_result"
    }
   ],
   "source": [
    "x, counts = np.unique(rand_ints, return_counts=True)\n",
    "x, counts"
   ]
  },
  {
   "cell_type": "code",
   "execution_count": 23,
   "metadata": {},
   "outputs": [
    {
     "data": {
      "image/png": "[encoded data removed]",
      "text/plain": [
       "<Figure size 1200x300 with 1 Axes>"
      ]
     },
     "metadata": {},
     "output_type": "display_data"
    }
   ],
   "source": [
    "#bar_plot = plt.subplots(figsize=(12,3))\n",
    "#plt.bar = (x, counts)\n",
    "#plt.show()\n",
    "# Create an empty plot.\n",
    "fig, ax = plt.subplots(figsize=(12, 3))\n",
    "\n",
    "# Plot a bar chart.\n",
    "ax.bar(x, counts);"
   ]
  },
  {
   "cell_type": "code",
   "execution_count": 24,
   "metadata": {},
   "outputs": [],
   "source": [
    "#first = 1\n",
    "#last = 10\n",
    "size = 10000"
   ]
  },
  {
   "cell_type": "code",
   "execution_count": 25,
   "metadata": {},
   "outputs": [
    {
     "data": {
      "text/plain": [
       "array([0.51465668, 0.70065623, 0.69642142, ..., 0.28858549, 0.2765529 ,\n",
       "       0.21196528])"
      ]
     },
     "execution_count": 25,
     "metadata": {},
     "output_type": "execute_result"
    }
   ],
   "source": [
    "rand_floats = rng.random(size)\n",
    "rand_floats"
   ]
  },
  {
   "cell_type": "code",
   "execution_count": 26,
   "metadata": {},
   "outputs": [
    {
     "data": {
      "image/png": "[encoded data removed]",
      "text/plain": [
       "<Figure size 1200x300 with 1 Axes>"
      ]
     },
     "metadata": {},
     "output_type": "display_data"
    }
   ],
   "source": [
    "# Create an empty plot.\n",
    "fig, ax = plt.subplots(figsize=(12, 3))\n",
    "\n",
    "# Plot a histogram chart.\n",
    "ax.hist(rand_floats, bins=20);"
   ]
  },
  {
   "cell_type": "code",
   "execution_count": 27,
   "metadata": {},
   "outputs": [
    {
     "data": {
      "text/plain": [
       "array([-2.18605156, -2.01551481,  1.69019828, ...,  0.41303577,\n",
       "       -2.05659557,  1.42540351])"
      ]
     },
     "execution_count": 27,
     "metadata": {},
     "output_type": "execute_result"
    }
   ],
   "source": [
    "size = 100000\n",
    "rand_normal = rng.standard_normal(size)\n",
    "rand_normal"
   ]
  },
  {
   "cell_type": "code",
   "execution_count": 28,
   "metadata": {},
   "outputs": [
    {
     "ename": "SyntaxError",
     "evalue": "invalid syntax (910581630.py, line 4)",
     "output_type": "error",
     "traceback": [
      "\u001b[1;36m  File \u001b[1;32m\"C:\\Users\\Fujitsu\\AppData\\Local\\Temp\\ipykernel_10280\\910581630.py\"\u001b[1;36m, line \u001b[1;32m4\u001b[0m\n\u001b[1;33m    ax.hist(rand_normal, bins=);\u001b[0m\n\u001b[1;37m                              ^\u001b[0m\n\u001b[1;31mSyntaxError\u001b[0m\u001b[1;31m:\u001b[0m invalid syntax\n"
     ]
    }
   ],
   "source": [
    "# Create an empty plot.\n",
    "fig, ax = plt.subplots(figsize=(12, 3))\n",
    "# Plot a histogram chart.\n",
    "ax.hist(rand_normal, bins=);"
   ]
  },
  {
   "cell_type": "markdown",
   "metadata": {},
   "source": [
    "***\n",
    "# END"
   ]
  }
 ],
 "metadata": {
  "kernelspec": {
   "display_name": "Python 3 (ipykernel)",
   "language": "python",
   "name": "python3"
  },
  "language_info": {
   "codemirror_mode": {
    "name": "ipython",
    "version": 3
   },
   "file_extension": ".py",
   "mimetype": "text/x-python",
   "name": "python",
   "nbconvert_exporter": "python",
   "pygments_lexer": "ipython3",
   "version": "3.9.13"
  }
 },
 "nbformat": 4,
 "nbformat_minor": 2
}
