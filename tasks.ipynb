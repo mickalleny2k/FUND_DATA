{
 "cells": [
  {
   "cell_type": "markdown",
   "metadata": {},
   "source": [
    "# TASKS FOR FUNDAMENTALS OF DATA ANALYSIS\n",
    "## Author : Michael Allen\n",
    "\n",
    "***"
   ]
  },
  {
   "cell_type": "markdown",
   "metadata": {},
   "source": [
    "## IMPORT PYTHON LIBRARIES"
   ]
  },
  {
   "cell_type": "code",
   "execution_count": 1,
   "metadata": {},
   "outputs": [],
   "source": [
    "import pandas as pd\n",
    "import matplotlib.pyplot as plt\n",
    "import numpy as np\n",
    "from scipy.stats import norm\n",
    "from scipy.stats import binom\n",
    "import seaborn as sns"
   ]
  },
  {
   "cell_type": "markdown",
   "metadata": {},
   "source": [
    "## First Task : COLLATZ CONJECTURE\n",
    "\n",
    "***\n",
    "My task is to verify, using Python, that the conjecture is true for\n",
    "the first 10,000 positive integers.\n",
    "\n",
    "The Collatz conjecture1 is a famous unsolved problem.[12] The problem is to prove that if you start with any positive\n",
    "integer x and repeatedly apply the function f(x) below, you always get stuck in the repeating sequence 1, 4, 2, 1, 4, 2, . . .\n",
    "\n",
    "$ {\\displaystyle f(x)={\\begin{cases}x/2&{\\text{if }}x\\equiv 0{\\pmod {2}},\\\\[4px]3x+1&{\\text{if }}x\\equiv 1{\\pmod {2}}.\\end{cases}}} $\n",
    "\n",
    "For example, starting with the value 10, which is an even number,\n",
    "we divide it by 2 to get 5. Then 5 is an odd number so, we mul\u0002tiply by 3 and add 1 to get 16. Then we repeatedly divide by 2 to\n",
    "get 8, 4, 2, 1. Once we are at 1, we go back to 4 and get stuck in the\n",
    "repeating sequence 4, 2, 1 as we suspected.\n",
    "Your task is to verify, using Python, that the conjecture is true for\n",
    "the first 10,000 positive integers. [14]"
   ]
  },
  {
   "cell_type": "markdown",
   "metadata": {},
   "source": [
    "### Step 1 : \n",
    "- Define a function f(X). \n",
    "- If the remainder of x divided by 2 is equal to zero, return x. \n",
    "- Otherwise, return x multiplied by 3 plus 1. "
   ]
  },
  {
   "cell_type": "code",
   "execution_count": 2,
   "metadata": {},
   "outputs": [],
   "source": [
    "def f(x):\n",
    "        if (x % 2) == 0: #if the number is divided by 2 with remainder equal to zero \n",
    "            return (x // 2)      \n",
    "         \n",
    "        else: # else if the number is divided 2 with remainder not equal to zero\n",
    "            return (x * 3) + 1"
   ]
  },
  {
   "cell_type": "markdown",
   "metadata": {},
   "source": [
    "### Step 2 : \n",
    "- Define the collatz function which takes x as an input.[13]\n",
    "- To reduce the amount of output which is printed in the notebook, I only print the output if x divided by 100 has no remainder.\n",
    "- While x is not equal to 1, execute the f(x) function. \n",
    "- When x equals 1, the Collatz conjecture is true.\n",
    "- To reduce the amount of output which is printed in the notebook, I only print the output if x divided by 10 has no remainder."
   ]
  },
  {
   "cell_type": "code",
   "execution_count": 3,
   "metadata": {},
   "outputs": [],
   "source": [
    "def collatz(x):\n",
    "    if x % 100 == 0:\n",
    "        print(f'Testing Collatz with initial value {x}')\n",
    "        while x != 1:\n",
    "            x=f(x)\n",
    "            if x % 10 == 0:\n",
    "                print(x, end=\" \")\n",
    "            elif x==1:\n",
    "                print(x, end=\"\\n\")\n",
    "                print(\"The Collatz conjecture is true.\\n\")\n",
    "    elif x == 1:\n",
    "        print(f'The Collatz conjecture is true for the first 10,000 positive integers.\\nMission Accomplished !!!')\n",
    "    else:\n",
    "        while x != 1:\n",
    "            x=f(x)      "
   ]
  },
  {
   "cell_type": "markdown",
   "metadata": {},
   "source": [
    "### Step 3 : \n",
    "- Start with x equal to 10,000. Prrove that it's true.\n",
    "\n",
    "- Then proove it's true for 9,999.\n",
    "\n",
    "- Keep going until you get to 1.\n",
    "\n",
    "- Verify that the conjecture is true for the first 10,000 positive integers."
   ]
  },
  {
   "cell_type": "code",
   "execution_count": null,
   "metadata": {},
   "outputs": [],
   "source": [
    "x=10000\n",
    "while x>=1:\n",
    "    collatz(x)\n",
    "    x=x-1        "
   ]
  },
  {
   "cell_type": "markdown",
   "metadata": {},
   "source": [
    "## Second Task : Types of variables\n",
    "***\n",
    "\n",
    "Give an overview of the famous penguins data set, explaining the types of variables it contains. Suggest the types of variables\n",
    "that should be used to model them in Python, explaining your rationale\n"
   ]
  },
  {
   "cell_type": "code",
   "execution_count": null,
   "metadata": {},
   "outputs": [],
   "source": [
    "penguins = pd.read_excel('./data/penguins.xlsx')\n",
    "penguins"
   ]
  },
  {
   "cell_type": "code",
   "execution_count": null,
   "metadata": {},
   "outputs": [],
   "source": [
    "penguins.columns"
   ]
  },
  {
   "cell_type": "code",
   "execution_count": null,
   "metadata": {},
   "outputs": [],
   "source": [
    "penguins.dtypes"
   ]
  },
  {
   "cell_type": "markdown",
   "metadata": {},
   "source": [
    "I need to change the data type of flipper_length_mm and body_mass_g from a float to an integer."
   ]
  },
  {
   "cell_type": "code",
   "execution_count": null,
   "metadata": {},
   "outputs": [],
   "source": [
    "penguins['flipper_length_mm'] = penguins['flipper_length_mm'].astype('Int64')\n",
    "penguins['body_mass_g'] = penguins['body_mass_g'].astype('Int64')"
   ]
  },
  {
   "cell_type": "markdown",
   "metadata": {},
   "source": [
    "Let's check that that worked"
   ]
  },
  {
   "cell_type": "code",
   "execution_count": null,
   "metadata": {},
   "outputs": [],
   "source": [
    "penguins.dtypes"
   ]
  },
  {
   "cell_type": "markdown",
   "metadata": {},
   "source": [
    "### Type : Float\n",
    "The float type in Python represents the floating point number. Float is used to represent real numbers and is written with a decimal point dividing the integer and fractional parts. For example in the first row of the penguin dataset, 39.1 and\t18.7 are floating point numbers. Python float values are represented as 64-bit double-precision values.[10]\n",
    "\n",
    "In the penguin dataset there are two variable of type float:\n",
    "- bill_length_mm is a float with one decimal place.\n",
    "- bill_depth_mm is a float with one decimal place.\n",
    "\n",
    "The mathematical notation for real numbers is as follows:\n",
    "\n",
    "**Reals**\n",
    "\n",
    "$ \\mathbb{R} $\n",
    "\n",
    "![Real Number Line](https://upload.wikimedia.org/wikipedia/commons/thumb/d/d7/Real_number_line.svg/689px-Real_number_line.svg.png)"
   ]
  },
  {
   "cell_type": "code",
   "execution_count": null,
   "metadata": {},
   "outputs": [],
   "source": [
    "type(\"Adelie\")"
   ]
  },
  {
   "cell_type": "code",
   "execution_count": null,
   "metadata": {},
   "outputs": [],
   "source": [
    "type(\"Torgersen\")"
   ]
  },
  {
   "cell_type": "code",
   "execution_count": null,
   "metadata": {},
   "outputs": [],
   "source": [
    "type(39.1)"
   ]
  },
  {
   "cell_type": "code",
   "execution_count": null,
   "metadata": {},
   "outputs": [],
   "source": [
    "type(18.7)"
   ]
  },
  {
   "cell_type": "code",
   "execution_count": null,
   "metadata": {},
   "outputs": [],
   "source": [
    "type(181)"
   ]
  },
  {
   "cell_type": "code",
   "execution_count": null,
   "metadata": {},
   "outputs": [],
   "source": [
    "type(3750)"
   ]
  },
  {
   "cell_type": "code",
   "execution_count": null,
   "metadata": {},
   "outputs": [],
   "source": [
    "type(\"MALE\")"
   ]
  },
  {
   "cell_type": "code",
   "execution_count": null,
   "metadata": {},
   "outputs": [],
   "source": [
    "penguins"
   ]
  },
  {
   "cell_type": "markdown",
   "metadata": {},
   "source": [
    " ### Type : Categorical variable\n",
    "In Python terminolgy, they are type string.  For example in the first row of the penguin dataset, Adeli, Torgersen and MALE are strings.\n",
    "\n",
    "According to Laerd statistics website, categorical variables are also known as discrete or qualitative variables.[9] Categorical variables can be further categorized as either nominal, ordinal or dichotomous.\n",
    "In the penguin dataset there are three categorical variables:\n",
    "- Species is a categorical variable. It has 3 categories : Adélie, Chinstrap and Gentoo. Since there are more than 2 categories and no order, it is referred as a nominal variable. Nominal variables are variables that have two or more categories, but which do not have an intrinsic order.\n",
    "\n",
    "- Island is a categorical variable. It also has 3 categories : Biscoe, Dream or Torgersen. Since there are more than 2 categories and no order, it is referred as a nominal variable. Nominal variables are variables that have two or more categories, but which do not have an intrinsic order.\n",
    "\n",
    "- sex is a categorical variable with 2 categories : male and female. Since there are only 2 categories, it is referred as a dichotomous variable.  This is an example of a dichotomous variable (and also a nominal variable). "
   ]
  },
  {
   "cell_type": "markdown",
   "metadata": {},
   "source": [
    "### Type : Integer\n",
    "In Python, integer variables, or \"int\" variables, are variables that specifically store, as the name suggests, integers as its value. As such, all whole numbers (0, 1, 2, 3, 4, 5, ...) are included in integer variables, including negative numbers (0, -1, -2, -3, -4, -5, ...)\n",
    "\n",
    "In the penguin dataset there are two integer variables:\n",
    "- flipper_length_mm is an integer denoting flipper length (millimeters)   \n",
    "- body_mass_g is an integer denoting body mass (grams)\n",
    "  The mathematical notation for integers is as follows: \n",
    "    \n",
    "**Integers**\n",
    "  \n",
    "  $\\mathbb{Z} = \\{ \\ldots, -3, -2, -1, 0, 1, 2, 3, \\ldots \\}$\n",
    "     \n",
    "But since both flipper length and body mass can not be negative, they are actually called natural numbers in mathematics.\n",
    "\n",
    "**Naturals**\n",
    "\n",
    "   $\\mathbb{N} = \\{1, 2, 3, \\ldots\\}$\n",
    "\n",
    "   $\\mathbb{N}_0 = \\{0, 1, 2, 3, \\ldots\\}$"
   ]
  },
  {
   "cell_type": "markdown",
   "metadata": {},
   "source": [
    "## Third Task : Probability Distributions\n",
    "***\n",
    "\n",
    "For each of the variables in the penguins data set, suggest what probability distribution from the numpy random distributions list is the most appropriate to model the variable."
   ]
  },
  {
   "cell_type": "code",
   "execution_count": null,
   "metadata": {},
   "outputs": [],
   "source": [
    "bill_length = penguins.bill_length_mm\n",
    "fig, ax = plt.subplots(1, 1)\n",
    "n, bins, patches = plt.hist(bill_length)\n",
    "title = (\"Histogram of Bill Length(Normal Distribution)\")\n",
    "plt.title(title)\n",
    "# adding labels \n",
    "ax.set_xlabel('Bill Length (mm)') \n",
    "ax.set_ylabel('Frequency')"
   ]
  },
  {
   "cell_type": "code",
   "execution_count": null,
   "metadata": {},
   "outputs": [],
   "source": [
    "n, bins"
   ]
  },
  {
   "cell_type": "code",
   "execution_count": null,
   "metadata": {},
   "outputs": [],
   "source": [
    "bill_length.mean()"
   ]
  },
  {
   "cell_type": "markdown",
   "metadata": {},
   "source": [
    "### The normal disribution is the most appropriate distribution to model the variable : bill_length_mm . \n",
    "It's shaped like a bell curve. \n",
    "As you can see, the bins in the center of the distribution contain most of the values for bill_length_mm.\n",
    "As you go further from the mean of 43.92192982456142, the number of values in the bins get smaller and smaller."
   ]
  },
  {
   "cell_type": "code",
   "execution_count": null,
   "metadata": {},
   "outputs": [],
   "source": [
    "bill_depth = penguins.bill_depth_mm\n",
    "fig, ax = plt.subplots(1, 1)\n",
    "n, bins, patches = plt.hist(bill_depth)\n",
    "title = (\"Histogram of Bill Depth(Normal Distribution)\")\n",
    "plt.title(title)\n",
    "# adding labels \n",
    "ax.set_xlabel('Bill Depth (mm)') \n",
    "ax.set_ylabel('Frequency') "
   ]
  },
  {
   "cell_type": "code",
   "execution_count": null,
   "metadata": {},
   "outputs": [],
   "source": [
    "n, bins"
   ]
  },
  {
   "cell_type": "code",
   "execution_count": null,
   "metadata": {},
   "outputs": [],
   "source": [
    "bill_depth.mean()"
   ]
  },
  {
   "cell_type": "markdown",
   "metadata": {},
   "source": [
    "### bill_depth is a normal disribution. \n",
    "It's shaped like a bell curve. \n",
    "It's shaped like a bell curve.\n",
    "As you can see, the bins in the center of the distribution contain most of the values.\n",
    "As you go further from the mean of 17.151169590643278, the number of values in the bins get smaller and smaller."
   ]
  },
  {
   "cell_type": "markdown",
   "metadata": {},
   "source": []
  },
  {
   "cell_type": "code",
   "execution_count": null,
   "metadata": {},
   "outputs": [],
   "source": [
    "flipper_length = penguins.flipper_length_mm\n",
    "#plt.hist(flipper_length)\n",
    "fig, ax = plt.subplots(1, 1)\n",
    "n, bins, patches = plt.hist(flipper_length[~np.isnan(flipper_length)])\n",
    "title = (\"Histogram of Flipper Length(2 Normal Distributions)\")\n",
    "plt.title(title)\n",
    "# adding labels \n",
    "ax.set_xlabel('Flipper Length (mm)') \n",
    "ax.set_ylabel('Frequency') "
   ]
  },
  {
   "cell_type": "code",
   "execution_count": null,
   "metadata": {},
   "outputs": [],
   "source": [
    "n, bins"
   ]
  },
  {
   "cell_type": "code",
   "execution_count": null,
   "metadata": {},
   "outputs": [],
   "source": [
    "flipper_length.mean()"
   ]
  },
  {
   "cell_type": "markdown",
   "metadata": {},
   "source": [
    "### flipper_length_mm is 2 normal disributions side-by-side.\n",
    "It's shaped like 2 bell curves.\n",
    "As you can see, there are two peaks.\n",
    "The number of values in each bin(n) gets bigger and smaller and bigger and smaller. Like a wave. Up and down. And Up and down again."
   ]
  },
  {
   "cell_type": "code",
   "execution_count": null,
   "metadata": {},
   "outputs": [],
   "source": [
    "body_mass = penguins.body_mass_g\n",
    "#plt.hist(body_mass)\n",
    "fig, ax = plt.subplots(1, 1)\n",
    "n, bins, patches = plt.hist(body_mass[~np.isnan(body_mass)])\n",
    "title = (\"Histogram of Flipper Length(Normal Distribution)\")\n",
    "plt.title(title)\n",
    "# adding labels \n",
    "ax.set_xlabel('Flipper Length (mm)') \n",
    "ax.set_ylabel('Frequency') "
   ]
  },
  {
   "cell_type": "code",
   "execution_count": null,
   "metadata": {},
   "outputs": [],
   "source": [
    "n, bins"
   ]
  },
  {
   "cell_type": "code",
   "execution_count": null,
   "metadata": {},
   "outputs": [],
   "source": [
    "body_mass.mean()"
   ]
  },
  {
   "cell_type": "code",
   "execution_count": null,
   "metadata": {},
   "outputs": [],
   "source": [
    "body_mass.std()"
   ]
  },
  {
   "cell_type": "markdown",
   "metadata": {},
   "source": [
    "### body_mass is a normal disribution. \n",
    "It's shaped like a bell curve.\n",
    "As you can see, the bins in the center of the distribution contain most of the values.\n",
    "As you go further from the mean of 4201.754385964912, the number of values in the bins get smaller and smaller. "
   ]
  },
  {
   "cell_type": "code",
   "execution_count": null,
   "metadata": {},
   "outputs": [],
   "source": [
    "body_mass.replace([np.inf, -np.inf], np.nan, inplace=True)\n",
    "body_mass.dropna(how=\"any\", inplace=True)"
   ]
  },
  {
   "cell_type": "code",
   "execution_count": null,
   "metadata": {},
   "outputs": [],
   "source": [
    "#data = body_mass.dropna()\n",
    "#data"
   ]
  },
  {
   "cell_type": "code",
   "execution_count": null,
   "metadata": {},
   "outputs": [],
   "source": [
    "#penguins.dropna()"
   ]
  },
  {
   "cell_type": "code",
   "execution_count": null,
   "metadata": {},
   "outputs": [],
   "source": [
    "np.isnan(body_mass).any()"
   ]
  },
  {
   "cell_type": "code",
   "execution_count": null,
   "metadata": {},
   "outputs": [],
   "source": [
    "body_mass.size"
   ]
  },
  {
   "cell_type": "code",
   "execution_count": null,
   "metadata": {},
   "outputs": [],
   "source": [
    "data = norm.rvs(4201.754385964912, 801.9545356980955, size=342)\n",
    "mu, std = norm.fit(data)\n",
    "fig, ax = plt.subplots(1, 1) \n",
    "plt.hist(data, bins=25, density=True, alpha=0.6, color='g')\n",
    "title = (\"Histogram of Body Mass(Normal Distribution)\")\n",
    "plt.title(title)\n",
    "# adding labels \n",
    "ax.set_xlabel('Body Mass (g)') \n",
    "ax.set_ylabel('Probability Density') "
   ]
  },
  {
   "cell_type": "code",
   "execution_count": null,
   "metadata": {},
   "outputs": [],
   "source": [
    "# Plot the PDF.\n",
    "#xmin, xmax = plt.xlim()\n",
    "body_mass.min()"
   ]
  },
  {
   "cell_type": "code",
   "execution_count": null,
   "metadata": {},
   "outputs": [],
   "source": [
    "data.min()"
   ]
  },
  {
   "cell_type": "code",
   "execution_count": null,
   "metadata": {},
   "outputs": [],
   "source": [
    "body_mass.max()"
   ]
  },
  {
   "cell_type": "code",
   "execution_count": null,
   "metadata": {},
   "outputs": [],
   "source": [
    "data.max()"
   ]
  },
  {
   "cell_type": "code",
   "execution_count": null,
   "metadata": {},
   "outputs": [],
   "source": [
    "x = np.linspace(2051, 6644, 100)\n",
    "p = norm.pdf(x, mu, std)\n",
    "fig, ax = plt.subplots(1, 1) \n",
    "plt.plot(x, p, 'k', linewidth=2)\n",
    "plt.hist(data, bins=25, density=True, alpha=0.6, color='g')\n",
    "title = \"Probability Density Function for Body Mass(Fit results: mu = %.2f,  std = %.2f\" % (mu, std)\n",
    "plt.title(title)\n",
    "# adding labels \n",
    "ax.set_xlabel('Body Mass(g)') \n",
    "ax.set_ylabel('Probability Density') "
   ]
  },
  {
   "cell_type": "code",
   "execution_count": null,
   "metadata": {},
   "outputs": [],
   "source": [
    "#from scipy import stats\n",
    "#dist = stats.norm\n",
    "#data = body_mass\n",
    "#bounds = [(170, 240), (0, 90)]\n",
    "#res = stats.fit(dist, data, bounds)\n",
    "#res"
   ]
  },
  {
   "cell_type": "code",
   "execution_count": null,
   "metadata": {},
   "outputs": [],
   "source": [
    "np.isinf(body_mass).any()"
   ]
  },
  {
   "cell_type": "code",
   "execution_count": null,
   "metadata": {},
   "outputs": [],
   "source": [
    "body_mass.dtype"
   ]
  },
  {
   "cell_type": "code",
   "execution_count": null,
   "metadata": {},
   "outputs": [],
   "source": [
    "body_mass.mean()"
   ]
  },
  {
   "cell_type": "code",
   "execution_count": null,
   "metadata": {},
   "outputs": [],
   "source": [
    "body_mass.std()"
   ]
  },
  {
   "cell_type": "markdown",
   "metadata": {},
   "source": [
    "## TASK 4 : Flipping 2 coins\n",
    "***\n",
    "Description : Suppose you are flipping two coins, each with a probability p of\n",
    "giving heads. Plot the entropy of the total number of heads versus\n",
    "p.\n",
    "\n",
    "The distribution of coin flips can be described by a binomial distribution. The probability of getting heads (or tails) is constant for all coin tosses: p = 1/21. The binomial distribution consists of the probabilities of each of the possible numbers of successes on N trials for independent events that each have a probability of π (the Greek letter pi) of occurring2. When the probability of heads is 50%, the distribution closely resembles a normal distribution as the number of trials and the number of coin flips per trial increase"
   ]
  },
  {
   "cell_type": "markdown",
   "metadata": {},
   "source": [
    "The probability of getting one head from flipping one coin is 0.5.\n",
    "In other words, each coin has a probability of 0.5 of giving heads"
   ]
  },
  {
   "cell_type": "code",
   "execution_count": null,
   "metadata": {},
   "outputs": [],
   "source": [
    "p = .5 * .5\n",
    "p\n",
    "#rng = np.random.default_rng()\n",
    "#n, p = 5, .25  # number of trials, probability of each trial\n",
    "#s = rng.binomial(n, p, 1000)\n",
    "# result of flipping 2 coin 5 times, tested 1000 times."
   ]
  },
  {
   "cell_type": "markdown",
   "metadata": {},
   "source": [
    "The probability of getting one head from flipping 2 coins is 0.25(.5 * .5)\n",
    "The probability of getting 2 heads from flipping 2 coins is 0.5 (0.25 + 0.25)"
   ]
  },
  {
   "cell_type": "code",
   "execution_count": null,
   "metadata": {},
   "outputs": [],
   "source": [
    "rng = np.random.default_rng()\n",
    "n, p = 10, 0.25  # number of trials, probability of each trial\n",
    "s = rng.binomial(n, p, 100000)\n",
    "s\n",
    "# result of flipping 2 coins, tested 1000 times."
   ]
  },
  {
   "cell_type": "code",
   "execution_count": null,
   "metadata": {},
   "outputs": [],
   "source": [
    "plt.hist(s)\n",
    "plt.xlabel(\"Number of heads per trial\")\n",
    "plt.ylabel(\"Number of trials with x heads\")\n",
    "title = (\"Histogram of flipping 2 coins\")\n",
    "plt.title(title)"
   ]
  },
  {
   "cell_type": "code",
   "execution_count": null,
   "metadata": {},
   "outputs": [],
   "source": [
    "mu = s.mean()\n",
    "mu"
   ]
  },
  {
   "cell_type": "code",
   "execution_count": null,
   "metadata": {},
   "outputs": [],
   "source": [
    "std = s.std()\n",
    "std"
   ]
  },
  {
   "cell_type": "code",
   "execution_count": null,
   "metadata": {},
   "outputs": [],
   "source": [
    "x = np.linspace(0, 8, 10)\n",
    "p = norm.pdf(x, mu, std)\n",
    "fig, ax = plt.subplots(1, 1) \n",
    "ax.plot(x, p, 'k', linewidth=2)\n",
    "ax.hist(s, bins=25, density=True, alpha=0.6, color='g')\n",
    "title = \"Fit results: mu = %.2f,  std = %.2f\" % (mu, std)\n",
    "plt.title(title)\n",
    "# adding labels \n",
    "ax.set_xlabel('Number of heads') \n",
    "ax.set_ylabel('Probability') "
   ]
  },
  {
   "cell_type": "code",
   "execution_count": null,
   "metadata": {},
   "outputs": [],
   "source": [
    "# setting the values \n",
    "# of n and p \n",
    "n = 10\n",
    "p = 0.25\n",
    "# defining list of r values \n",
    "r_values = list(range(n + 1)) \n",
    "# list of pmf values \n",
    "dist = [binom.pmf(r, n, p) for r in r_values ] \n",
    "# plotting the graph \n",
    "fig, ax = plt.subplots(1, 1) \n",
    "#ax.hist(penguins.bill_depth_mm) \n",
    "ax.bar(r_values, dist) \n",
    "#plt.show()\n",
    "# Set title \n",
    "ax.set_title(\"Probability Mass Function\") \n",
    "  \n",
    "# adding labels \n",
    "ax.set_xlabel('Number of heads') \n",
    "ax.set_ylabel('Probability') "
   ]
  },
  {
   "cell_type": "markdown",
   "metadata": {},
   "source": [
    "##### Calculate the first four moments:"
   ]
  },
  {
   "cell_type": "code",
   "execution_count": null,
   "metadata": {},
   "outputs": [],
   "source": [
    "n, p = 10, 0.25\n",
    "mean, var, skew, kurt = binom.stats(n, p, moments='mvsk')"
   ]
  },
  {
   "cell_type": "markdown",
   "metadata": {},
   "source": [
    "##### Display the probability mass function (pmf):"
   ]
  },
  {
   "cell_type": "code",
   "execution_count": null,
   "metadata": {},
   "outputs": [],
   "source": [
    "fig, ax = plt.subplots(1, 1)\n",
    "x = np.arange(binom.ppf(0.01, n, p),\n",
    "              binom.ppf(0.99, n, p))\n",
    "ax.plot(x, binom.pmf(x, n, p), 'bo', ms=8, label='binom pmf')\n",
    "ax.vlines(x, 0, binom.pmf(x, n, p), colors='b', lw=5, alpha=0.5)\n",
    "# Set title \n",
    "ax.set_title(\"Probability Mass Function\") \n",
    "  \n",
    "# adding labels \n",
    "ax.set_xlabel('Number of heads') \n",
    "ax.set_ylabel('Probability') "
   ]
  },
  {
   "cell_type": "markdown",
   "metadata": {},
   "source": [
    "##### Check accuracy"
   ]
  },
  {
   "cell_type": "code",
   "execution_count": null,
   "metadata": {},
   "outputs": [],
   "source": [
    "prob = binom.cdf(x, n, p)\n",
    "np.allclose(x, binom.ppf(prob, n, p))"
   ]
  },
  {
   "cell_type": "markdown",
   "metadata": {},
   "source": [
    "##### Generate random numbers"
   ]
  },
  {
   "cell_type": "code",
   "execution_count": null,
   "metadata": {},
   "outputs": [],
   "source": [
    "r = binom.rvs(n, p, size=1000)\n",
    "r"
   ]
  },
  {
   "cell_type": "code",
   "execution_count": null,
   "metadata": {},
   "outputs": [],
   "source": [
    "import warnings\n",
    "warnings.filterwarnings(\"ignore\", category=FutureWarning)\n",
    "sns.distplot(r, kde = True, color = \"g\").set(title='Kernel Density Estimate (KDE) Plot for Flipping 2 coins')"
   ]
  },
  {
   "cell_type": "markdown",
   "metadata": {},
   "source": [
    "## TASK 5 : Plot variables\n",
    "***\n",
    "Create an appropriate individual plot for each of the variables in\n",
    "the penguin data set."
   ]
  },
  {
   "cell_type": "markdown",
   "metadata": {},
   "source": [
    "### HISTOGRAM OF BILL DEPTH"
   ]
  },
  {
   "cell_type": "code",
   "execution_count": null,
   "metadata": {},
   "outputs": [],
   "source": [
    "# Creating histogram \n",
    "fig, ax = plt.subplots(1, 1) \n",
    "ax.hist(penguins.bill_depth_mm) \n",
    "  \n",
    "# Set title \n",
    "ax.set_title(\"HISTOGRAM OF BILL DEPTH\") \n",
    "  \n",
    "# adding labels \n",
    "ax.set_xlabel('BILL DEPTH(cm)') \n",
    "ax.set_ylabel('FREQUENCY') \n",
    "\n",
    "plt.show()"
   ]
  },
  {
   "cell_type": "code",
   "execution_count": null,
   "metadata": {},
   "outputs": [],
   "source": [
    "sns.histplot(data=penguins, x='bill_depth_mm', hue=\"sex\").set(title='HISTOGRAM OF BILL DEPTH BY SPECIES')"
   ]
  },
  {
   "cell_type": "markdown",
   "metadata": {},
   "source": [
    "### HISTOGRAM OF BILL DEPTH"
   ]
  },
  {
   "cell_type": "code",
   "execution_count": null,
   "metadata": {},
   "outputs": [],
   "source": [
    "# Creating histogram \n",
    "fig, ax = plt.subplots(1, 1) \n",
    "ax.hist(penguins.bill_length_mm) \n",
    "  \n",
    "# Set title \n",
    "ax.set_title(\"HISTOGRAM OF BILL LENGTH\") \n",
    "  \n",
    "# adding labels \n",
    "ax.set_xlabel('BILL LENGTH(cm)') \n",
    "ax.set_ylabel('FREQUENCY') \n",
    "\n",
    "plt.show()"
   ]
  },
  {
   "cell_type": "code",
   "execution_count": null,
   "metadata": {},
   "outputs": [],
   "source": [
    "sns.histplot(data=penguins, x='bill_length_mm', hue=\"island\").set(title='HISTOGRAM OF BILL LENGTH BY ISLAND')"
   ]
  },
  {
   "cell_type": "markdown",
   "metadata": {},
   "source": [
    "### LINE PLOT OF BILL LENGTH AND BILL DEPTH"
   ]
  },
  {
   "cell_type": "code",
   "execution_count": null,
   "metadata": {},
   "outputs": [],
   "source": [
    "#plt.plot(penguins.bill_length_mm,penguins.bill_depth_mm )\n",
    "# Creating lineplot \n",
    "fig, ax = plt.subplots(1, 1) \n",
    "ax.plot(penguins.bill_length_mm,penguins.bill_depth_mm) \n",
    "  \n",
    "# Set title \n",
    "ax.set_title(\"LINE PLOT OF BILL LENGTH AND BILL DEPTH\") \n",
    "  \n",
    "# adding labels \n",
    "ax.set_xlabel('BILL LENGTH(cm)') \n",
    "ax.set_ylabel('BILL DEPTH(cm)') \n",
    "\n",
    "plt.show()"
   ]
  },
  {
   "cell_type": "markdown",
   "metadata": {},
   "source": [
    "### SCATTER PLOTS OF BILL LENGTH AND BILL DEPTH"
   ]
  },
  {
   "cell_type": "code",
   "execution_count": null,
   "metadata": {},
   "outputs": [],
   "source": [
    "\n",
    "# Creating scatter plot\n",
    "fig, ax = plt.subplots(1, 1) \n",
    "ax.scatter(penguins.bill_length_mm,penguins.bill_depth_mm) \n",
    "  \n",
    "# Set title \n",
    "ax.set_title(\"SCATTER PLOT OF BILL LENGTH AND BILL DEPTH\") \n",
    "  \n",
    "# adding labels \n",
    "ax.set_xlabel('BILL LENGTH(cm)') \n",
    "ax.set_ylabel('BILL DEPTH(cm)') \n",
    "\n",
    "plt.show()"
   ]
  },
  {
   "cell_type": "code",
   "execution_count": null,
   "metadata": {},
   "outputs": [],
   "source": [
    "#sns.scatterplot(data = penguins)\n",
    "sns.scatterplot(x='bill_length_mm',y='bill_depth_mm', hue=\"species\", data = penguins).set(title='SCATTER PLOT OF BILL LENGTH AND BILL DEPTH')"
   ]
  },
  {
   "cell_type": "markdown",
   "metadata": {},
   "source": [
    "### PAIR PLOTS "
   ]
  },
  {
   "cell_type": "code",
   "execution_count": null,
   "metadata": {},
   "outputs": [],
   "source": [
    "sns.pairplot(data = penguins)\n",
    "sns.pairplot(penguins, hue=\"species\", palette=\"rainbow\")\n",
    "plt.savefig('./img/pairplot.png')\n",
    "plt.show()\n",
    "plt.close()"
   ]
  },
  {
   "cell_type": "markdown",
   "metadata": {},
   "source": [
    "### BILL LENGTH BY SPECIES BAR PLOT"
   ]
  },
  {
   "cell_type": "code",
   "execution_count": null,
   "metadata": {},
   "outputs": [],
   "source": [
    "sns.barplot(x=\"species\", y=\"bill_length_mm\", data=penguins).set(title='BILL LENGTH BY SPECIES BAR PLOT')"
   ]
  },
  {
   "cell_type": "markdown",
   "metadata": {},
   "source": [
    "### BILL DEPTH BY SPECIES BAR PLOT"
   ]
  },
  {
   "cell_type": "code",
   "execution_count": null,
   "metadata": {},
   "outputs": [],
   "source": [
    "sns.barplot(x=\"species\", y=\"bill_depth_mm\", data=penguins).set(title='BILL DEPTH BY SPECIES BAR PLOT')"
   ]
  },
  {
   "cell_type": "markdown",
   "metadata": {},
   "source": [
    "### FLIPPER LENGTH BY SPECIES BAR PLOT"
   ]
  },
  {
   "cell_type": "code",
   "execution_count": null,
   "metadata": {},
   "outputs": [],
   "source": [
    "sns.barplot(x=\"species\", y=\"flipper_length_mm\", data=penguins).set(title='FLIPPER LENGTH BY SPECIES BAR PLOT')"
   ]
  },
  {
   "cell_type": "markdown",
   "metadata": {},
   "source": [
    "### BODY MASS BY SPECIES BAR PLOT"
   ]
  },
  {
   "cell_type": "code",
   "execution_count": null,
   "metadata": {},
   "outputs": [],
   "source": [
    "sns.barplot(x=\"species\", y=\"body_mass_g\", data=penguins).set(title='BODY MASS BY SPECIES BAR PLOT')"
   ]
  },
  {
   "cell_type": "markdown",
   "metadata": {},
   "source": [
    "### GROUPBY SPECIES AND SEX BAR PLOT\n",
    "- Barcharts: Barcharts are great when you have two variables one is numerical and therefore the other may be a categorical variable. A barplot can reveal the relationship between them.[15]\n",
    "\n",
    "- Grouped Barplot: A Grouped barplot is beneficial when you have a multiple categorical variable. Python’s Seaborn plotting library makes it easy to form grouped barplots.\n",
    "\n",
    "- Groupby: Pandas dataframe.groupby() function is used to split the data into groups based on some criteria. Pandas objects can be split on any of their axes. The abstract definition of grouping is to provide a mapping of labels to group names."
   ]
  },
  {
   "cell_type": "code",
   "execution_count": null,
   "metadata": {},
   "outputs": [],
   "source": [
    "penguins_groupby = penguins.groupby(['species', 'sex']).mean(('bill_length_mm')) \n",
    "penguins_groupby = penguins_groupby.reset_index() \n",
    "  \n",
    "# plot barplot \n",
    "sns.barplot(x=\"species\", \n",
    "           y=\"bill_length_mm\", \n",
    "           hue=\"sex\", \n",
    "           data=penguins_groupby).set(title='GROUPBY SPECIES AND SEX BAR PLOT') "
   ]
  },
  {
   "cell_type": "code",
   "execution_count": null,
   "metadata": {},
   "outputs": [],
   "source": [
    "penguins_groupby"
   ]
  },
  {
   "cell_type": "code",
   "execution_count": null,
   "metadata": {},
   "outputs": [],
   "source": [
    "penguins_groupby.bill_length_mm"
   ]
  },
  {
   "cell_type": "markdown",
   "metadata": {},
   "source": [
    "- The bill length of Adelie FEMALE penguins is 37.257534\n",
    "- The bill length of Adelie MALE penguins is 40.390411\n",
    "- The bill length of Chinstrap FEMALE penguins is 46.573529\n",
    "- The bill length of Chinstrap MALE penguins is 51.094118\n",
    "- The bill length of Gentoo\tFEMALE penguins is 45.563793\n",
    "- The bill length of Gentoo\tMALE penguins is 49.473770\n",
    "\n",
    "Bill length of males is longer than females. This is true for all 3 species."
   ]
  },
  {
   "cell_type": "markdown",
   "metadata": {},
   "source": [
    "### PENGUIN SEX PIECHART"
   ]
  },
  {
   "cell_type": "code",
   "execution_count": null,
   "metadata": {},
   "outputs": [],
   "source": [
    "ax=plt.subplots(1,1,figsize=(10,8))\n",
    "penguins['sex'].value_counts().plot.pie(explode=[0.1,0.1],autopct='%1.1f%%',shadow=True,figsize=(10,8), legend=True, labeldistance=1.1)\n",
    "plt.title(\"Penguin Sex %\")\n",
    "plt.show()"
   ]
  },
  {
   "cell_type": "markdown",
   "metadata": {},
   "source": [
    "### PENGUIN ISLAND PIECHART"
   ]
  },
  {
   "cell_type": "code",
   "execution_count": null,
   "metadata": {},
   "outputs": [],
   "source": [
    "ax=plt.subplots(1,1,figsize=(10,8))\n",
    "penguins['island'].value_counts().plot.pie(explode=[0.1,0.1,0.1],autopct='%1.1f%%',shadow=True,figsize=(10,8), legend=True, labeldistance=1.1)\n",
    "plt.title(\"Penguin Island %\")\n",
    "plt.show()"
   ]
  },
  {
   "cell_type": "markdown",
   "metadata": {},
   "source": [
    "### PENGUIN SPECIES PIECHART"
   ]
  },
  {
   "cell_type": "code",
   "execution_count": null,
   "metadata": {},
   "outputs": [],
   "source": [
    "ax=plt.subplots(1,1,figsize=(10,8))\n",
    "penguins['species'].value_counts().plot.pie(explode=[0.1,0.1,0.1],autopct='%1.1f%%',shadow=True,figsize=(10,8), legend=True, labeldistance=1.1)\n",
    "plt.title(\"Penguin Species %\")\n",
    "plt.show()"
   ]
  },
  {
   "cell_type": "markdown",
   "metadata": {},
   "source": [
    "# RESEARCH / REFERENCES\n",
    "\n",
    "[1] Convert Pandas column containing NaNs to dtype `int`, Stackoverflow\n",
    "https://stackoverflow.com/questions/21287624/convert-pandas-column-containing-nans-to-dtype-int\n",
    "\n",
    "[2] Penguins Dataset Overview — iris alternative, Towards Data Science\n",
    "https://towardsdatascience.com/penguins-dataset-overview-iris-alternative-9453bb8c8d95\n",
    "\n",
    "[3] how to plot a histogram with nan?, Stackoverflow\n",
    "https://stackoverflow.com/questions/54615686/how-to-plot-a-histogram-with-nan#:~:text=You%20can%20use%20numpy.isnan%20%28%29%20to%20choose%20only,to%20be%20np.nan%20for%20this%20to%20work%20though.%29\n",
    "\n",
    "[4] Fitting a Normal distribution to 1D data, Stackoverflow\n",
    "https://stackoverflow.com/questions/20011122/fitting-a-normal-distribution-to-1d-data\n",
    "\n",
    "[5] Types of Variable - Understanding the different types of variable in statistics, Laerd Statistics\n",
    "https://statistics.laerd.com/statistical-guides/types-of-variable.php\n",
    "\n",
    "[6] Binomial Distribution via Coin Flips, WOLFRAM TECHNOLOGIES\n",
    "https://demonstrations.wolfram.com/BinomialDistributionViaCoinFlips/\n",
    "\n",
    "[7] numpy.random.Generator.binomial API, Numpy\n",
    "https://numpy.org/doc/stable/reference/random/generated/numpy.random.Generator.binomial.html#numpy.random.Generator.binomial\n",
    "\n",
    "[8] scipy.stats.binom API, Scipy\n",
    "https://docs.scipy.org/doc/scipy/reference/generated/scipy.stats.binom.html\n",
    "\n",
    "[9] Types of Variable, Laerd Statistics \n",
    "https://statistics.laerd.com/statistical-guides/types-of-variable.php\n",
    "\n",
    "[10] Built-in Types, The Python Software Foundation\n",
    "https://docs.python.org/3/library/stdtypes.html\n",
    "\n",
    "[11] Collatz Conjecture and printing statements\n",
    "https://stackoverflow.com/questions/7947624/collatz-conjecture-and-printing-statements\n",
    "\n",
    "[12] The Simple Math Problem We Still Can’t Solve, Quanta Magazine\n",
    "https://www.quantamagazine.org/why-mathematicians-still-cant-solve-the-collatz-conjecture-20200922/\n",
    "\n",
    "[13] Collatz Conjecture in Python, Stackerflow\n",
    "https://stackoverflow.com/questions/46505460/collatz-conjecture-in-python\n",
    "\n",
    "[14] Collatz conjecture, Wikipedia\n",
    "https://en.wikipedia.org/wiki/Collatz_conjecture#Iterating_on_real_or_complex_numbers\n",
    "\n",
    "[15] Grouped Barplots in Python with Seaborn, GeeksforGeeks\n",
    "https://www.geeksforgeeks.org/grouped-barplots-in-python-with-seaborn/\n"
   ]
  },
  {
   "cell_type": "markdown",
   "metadata": {},
   "source": [
    "***\n",
    "\n",
    "\n",
    "# END"
   ]
  }
 ],
 "metadata": {
  "kernelspec": {
   "display_name": "Python 3 (ipykernel)",
   "language": "python",
   "name": "python3"
  },
  "language_info": {
   "codemirror_mode": {
    "name": "ipython",
    "version": 3
   },
   "file_extension": ".py",
   "mimetype": "text/x-python",
   "name": "python",
   "nbconvert_exporter": "python",
   "pygments_lexer": "ipython3",
   "version": "3.9.13"
  }
 },
 "nbformat": 4,
 "nbformat_minor": 2
}
