{
 "cells": [
  {
   "cell_type": "markdown",
   "metadata": {},
   "source": [
    "# PROJECT FOR FUNDAMENTALS OF DATA ANALYSIS"
   ]
  },
  {
   "cell_type": "markdown",
   "metadata": {},
   "source": [
    "## IRIS FLOWER DATASET\n",
    "## Author : Michael Allen"
   ]
  },
  {
   "cell_type": "markdown",
   "metadata": {},
   "source": [
    "The project is to create a notebook investigating the variables and\n",
    "data points within the well-known iris flower data set associated\n",
    "with Ronald A Fisher."
   ]
  },
  {
   "cell_type": "code",
   "execution_count": null,
   "metadata": {
    "vscode": {
     "languageId": "plaintext"
    }
   },
   "outputs": [],
   "source": [
    "import csv\n",
    "import numpy as np\n",
    "import pandas as pd\n",
    "import seaborn as sns\n",
    "import sys\n",
    "import matplotlib.pyplot as plt\n",
    "from sklearn import datasets\n",
    "import re\n",
    "import fileinput\n",
    "import random"
   ]
  },
  {
   "cell_type": "code",
   "execution_count": null,
   "metadata": {
    "vscode": {
     "languageId": "plaintext"
    }
   },
   "outputs": [],
   "source": [
    "filename = \"iris.csv\"\n",
    "# https://www.geeksforgeeks.org/python-basics-of-pandas-using-iris-dataset/\n",
    "iris = pd.read_csv('iris.csv')\n",
    "sys.stdout = open('output.txt','wt')\n",
    "print(\"             FUNDAMENTALS OF DATA ANALYSIS PROJECT\")\n",
    "print()\n",
    "print(\"5 COLUMNS\")\n",
    "print(iris.columns)\n",
    "iris.columns"
   ]
  },
  {
   "cell_type": "code",
   "execution_count": null,
   "metadata": {},
   "outputs": [],
   "source": [
    "print()\n",
    "print(\"The Iris Data Set\")\n",
    "print(iris)\n",
    "iris"
   ]
  },
  {
   "cell_type": "markdown",
   "metadata": {},
   "source": [
    "## Add 4 columns to the iris dataframe\n",
    "- sl*sw = sepal_length * sepal_width\n",
    "- pl/pw = petal_length / petal_width\n",
    "- sl+sw = sepal_length + sepal_width\n",
    "- pl-pw = petal_length - petal_width"
   ]
  },
  {
   "cell_type": "code",
   "execution_count": null,
   "metadata": {},
   "outputs": [],
   "source": [
    "iris_columns = ['sepal_length', 'sepal_width' , 'petal_length', 'petal_width', 'species']\n",
    "iris['sl*sw'] = iris['sepal_length'] * iris['sepal_width']\n",
    "iris['pl/pw'] = iris['petal_length'] / iris['petal_width']\n",
    "iris['sl+sw'] = iris['sepal_length'] + iris['sepal_width']\n",
    "iris['pl-pw'] = iris['petal_length'] - iris['petal_width']\n",
    "#iris['sl/sw'] = iris[int('sepal_length')] ^ iris[int('sepal_width')]\n",
    "iris_columns = ['sepal_length', 'sepal_width' , 'petal_length', 'petal_width', 'species', 'sl*sw', 'pl/pw', 'sl+sw', 'pl-pw']\n",
    "print()\n",
    "print(\"9 COLUMNS\")\n",
    "print(iris.columns)\n",
    "iris.columns"
   ]
  },
  {
   "cell_type": "code",
   "execution_count": null,
   "metadata": {},
   "outputs": [],
   "source": [
    "print(iris)\n",
    "iris"
   ]
  }
 ],
 "metadata": {
  "kernelspec": {
   "display_name": "Python 3 (ipykernel)",
   "language": "python",
   "name": "python3"
  },
  "language_info": {
   "codemirror_mode": {
    "name": "ipython",
    "version": 3
   },
   "file_extension": ".py",
   "mimetype": "text/x-python",
   "name": "python",
   "nbconvert_exporter": "python",
   "pygments_lexer": "ipython3",
   "version": "3.9.13"
  }
 },
 "nbformat": 4,
 "nbformat_minor": 2
}
