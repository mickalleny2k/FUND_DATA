{
 "cells": [
  {
   "cell_type": "markdown",
   "metadata": {},
   "source": [
    "# Random Numbers\n",
    "\n",
    "## https://docs.python.org/3/library/random.html?highlight=random#module-random"
   ]
  },
  {
   "cell_type": "code",
   "execution_count": 39,
   "metadata": {},
   "outputs": [],
   "source": [
    "import random\n",
    "import numpy as np\n",
    "import matplotlib.pyplot as plt"
   ]
  },
  {
   "cell_type": "code",
   "execution_count": 40,
   "metadata": {},
   "outputs": [],
   "source": [
    "rng = np.random.default_rng()"
   ]
  },
  {
   "cell_type": "code",
   "execution_count": 41,
   "metadata": {},
   "outputs": [
    {
     "name": "stdout",
     "output_type": "stream",
     "text": [
      "\u001b[1;31mSignature:\u001b[0m \u001b[0mrandom\u001b[0m\u001b[1;33m.\u001b[0m\u001b[0mrandint\u001b[0m\u001b[1;33m(\u001b[0m\u001b[0ma\u001b[0m\u001b[1;33m,\u001b[0m \u001b[0mb\u001b[0m\u001b[1;33m)\u001b[0m\u001b[1;33m\u001b[0m\u001b[1;33m\u001b[0m\u001b[0m\n",
      "\u001b[1;31mDocstring:\u001b[0m\n",
      "Return random integer in range [a, b], including both end points.\n",
      "        \n",
      "\u001b[1;31mFile:\u001b[0m      c:\\users\\fujitsu\\anaconda3\\lib\\random.py\n",
      "\u001b[1;31mType:\u001b[0m      method\n"
     ]
    }
   ],
   "source": [
    "?random.randint"
   ]
  },
  {
   "cell_type": "code",
   "execution_count": 42,
   "metadata": {},
   "outputs": [
    {
     "data": {
      "text/plain": [
       "18"
      ]
     },
     "execution_count": 42,
     "metadata": {},
     "output_type": "execute_result"
    }
   ],
   "source": [
    "random.randint(10,25)"
   ]
  },
  {
   "cell_type": "code",
   "execution_count": 43,
   "metadata": {},
   "outputs": [
    {
     "data": {
      "text/plain": [
       "[27, 22, 28, 10, 10, 25, 26, 12, 20, 28]"
      ]
     },
     "execution_count": 43,
     "metadata": {},
     "output_type": "execute_result"
    }
   ],
   "source": [
    "L = [random.randint(10,30) for i in range(100)]\n",
    "\n",
    "L[:10]"
   ]
  },
  {
   "cell_type": "code",
   "execution_count": 44,
   "metadata": {},
   "outputs": [
    {
     "data": {
      "text/plain": [
       "['Porsche', 'Ferrari', 'Peugot', 'Peugot', 'Porsche']"
      ]
     },
     "execution_count": 44,
     "metadata": {},
     "output_type": "execute_result"
    }
   ],
   "source": [
    "makes = ['Ferrari', 'Porsche', 'Peugot', 'Skoda']\n",
    "\n",
    "random.choice(makes)\n",
    "\n",
    "random.choices(makes, k=5)"
   ]
  },
  {
   "cell_type": "code",
   "execution_count": 45,
   "metadata": {},
   "outputs": [],
   "source": [
    "letters = ['A', 'B', 'C', 'D', 'E', 'F', 'G', 'H']"
   ]
  },
  {
   "cell_type": "code",
   "execution_count": 46,
   "metadata": {},
   "outputs": [
    {
     "data": {
      "text/plain": [
       "['D', 'F', 'G', 'B', 'H', 'E', 'C', 'A']"
      ]
     },
     "execution_count": 46,
     "metadata": {},
     "output_type": "execute_result"
    }
   ],
   "source": [
    "random.shuffle(letters)\n",
    "\n",
    "letters"
   ]
  },
  {
   "cell_type": "code",
   "execution_count": 47,
   "metadata": {},
   "outputs": [
    {
     "data": {
      "text/plain": [
       "['H', 'B', 'C', 'G', 'F', 'A', 'E']"
      ]
     },
     "execution_count": 47,
     "metadata": {},
     "output_type": "execute_result"
    }
   ],
   "source": [
    "random.sample(letters, k=7)"
   ]
  },
  {
   "cell_type": "code",
   "execution_count": 48,
   "metadata": {},
   "outputs": [
    {
     "data": {
      "text/plain": [
       "0.3968453903189315"
      ]
     },
     "execution_count": 48,
     "metadata": {},
     "output_type": "execute_result"
    }
   ],
   "source": [
    "random.random()"
   ]
  },
  {
   "cell_type": "code",
   "execution_count": 57,
   "metadata": {},
   "outputs": [
    {
     "data": {
      "text/plain": [
       "array([0.86429481, 0.76354421, 0.92189333, 0.07907464, 0.1357298 ,\n",
       "       0.51070227, 0.40328983, 0.57237097, 0.14478462, 0.48408309,\n",
       "       0.13581448, 0.7848699 , 0.77060065, 0.58160344, 0.47140964,\n",
       "       0.68498585, 0.0389626 , 0.93535163, 0.22308273, 0.11502242,\n",
       "       0.68994428, 0.70398734, 0.79016067, 0.48044703, 0.21184854,\n",
       "       0.3360313 , 0.05414599, 0.7073683 , 0.96262976, 0.56290608,\n",
       "       0.5682099 , 0.87564492, 0.46987701, 0.74234769, 0.08845314,\n",
       "       0.22666367, 0.89617567, 0.69146123, 0.7017357 , 0.21257209,\n",
       "       0.24326404, 0.81656805, 0.63343775, 0.56968988, 0.46820267,\n",
       "       0.74539447, 0.64254836, 0.05853654, 0.03546704, 0.04807626,\n",
       "       0.34200771, 0.87787802, 0.42453894, 0.68001869, 0.62763878,\n",
       "       0.89812581, 0.53914628, 0.05590565, 0.92637391, 0.64623927,\n",
       "       0.6703506 , 0.61776077, 0.5521721 , 0.24446902, 0.85262269,\n",
       "       0.9816493 , 0.61436436, 0.19919964, 0.70912949, 0.67605803,\n",
       "       0.40091571, 0.47021351, 0.74665024, 0.75187862, 0.09967198,\n",
       "       0.61442894, 0.24668713, 0.99467754, 0.40291899, 0.38539552,\n",
       "       0.46385314, 0.76409492, 0.04580653, 0.05045881, 0.69253255,\n",
       "       0.75053904, 0.61151627, 0.66461569, 0.26647194, 0.79374031,\n",
       "       0.43920283, 0.1852629 , 0.6105691 , 0.40169725, 0.67046638,\n",
       "       0.73693351, 0.37144622, 0.82670065, 0.04209363, 0.52943128])"
      ]
     },
     "execution_count": 57,
     "metadata": {},
     "output_type": "execute_result"
    }
   ],
   "source": [
    "rng.random(100)"
   ]
  },
  {
   "cell_type": "code",
   "execution_count": 50,
   "metadata": {},
   "outputs": [
    {
     "data": {
      "text/plain": [
       "40.16495378402529"
      ]
     },
     "execution_count": 50,
     "metadata": {},
     "output_type": "execute_result"
    }
   ],
   "source": [
    "random.uniform(0.0, 100.0)"
   ]
  },
  {
   "cell_type": "code",
   "execution_count": 51,
   "metadata": {},
   "outputs": [
    {
     "data": {
      "text/plain": [
       "99.98215870191723"
      ]
     },
     "execution_count": 51,
     "metadata": {},
     "output_type": "execute_result"
    }
   ],
   "source": [
    "rng.normal(100)"
   ]
  },
  {
   "cell_type": "code",
   "execution_count": 52,
   "metadata": {},
   "outputs": [
    {
     "data": {
      "text/plain": [
       "array([ 1.00957961,  1.36662208, -1.23661294, -0.89511303, -0.67231894,\n",
       "        1.89243155,  1.55951697, -0.54676288, -1.40440361,  0.94988711,\n",
       "       -0.30026126, -0.46121485,  0.97125252,  0.97011622,  1.2125883 ,\n",
       "        0.53347703,  0.18967366, -2.11194628, -0.59375283,  0.49900163,\n",
       "       -0.06767869, -0.41488742, -0.28369686,  0.29959972, -0.02888925,\n",
       "        0.05978906,  0.11798846, -0.08633746, -0.73998413,  0.77544944,\n",
       "        0.99165775,  0.10547599,  2.02475273, -1.53736496, -0.55496548,\n",
       "       -1.38523537, -0.32724052,  0.31746263,  0.54704172, -0.19225066,\n",
       "        0.09466457, -0.3012311 ,  0.15046917,  0.51236076, -1.91081484,\n",
       "       -0.56708455,  0.16415004, -0.85518181,  1.06378449, -0.97864094,\n",
       "       -0.09405112, -0.15563294,  0.61314868, -2.53321789,  1.89195171,\n",
       "        1.42079319, -0.2172625 , -0.26182899,  0.60561627,  1.31701152,\n",
       "        0.34113491, -0.1590779 ,  0.85332289, -1.05482725,  0.37785767,\n",
       "       -0.99216225, -0.46834901,  1.04467368, -0.83730068, -0.41455791,\n",
       "       -1.5376138 , -0.21768977,  0.07113202, -1.33199785, -0.78045304,\n",
       "        0.30285624,  0.82114032, -0.34081317, -0.02349583,  0.92262385,\n",
       "       -0.97674893,  1.54847462, -1.90010044, -0.84719949, -0.44976298,\n",
       "       -1.34217687, -1.56314736,  0.91671132,  0.20429955, -0.01506167,\n",
       "       -0.54804029, -0.08837216,  0.77951214,  0.13180261, -0.91555164,\n",
       "        0.52855976,  0.08057807,  0.78826915,  0.06163529, -0.34220064,\n",
       "       -0.48055612, -0.15103834, -0.63858677,  0.75192649, -1.04006699,\n",
       "       -0.71652721,  1.28396664, -0.13275542, -0.39250452, -0.89059569,\n",
       "       -1.28647789, -1.42179632,  0.41816321,  0.19557166, -0.45136592,\n",
       "       -0.31361301,  2.38405048,  0.99971241, -0.31582463, -1.8999817 ,\n",
       "        0.66528365, -0.78579059, -1.770942  ,  0.30053848, -1.08110783,\n",
       "       -0.42606222, -0.43682609,  0.0249075 , -0.66694487, -1.80167654,\n",
       "       -1.61586079,  0.04835546,  0.66501955,  0.83705349, -2.85840891,\n",
       "        0.01239122, -2.31982503, -0.30118901,  0.8140418 , -0.37910335,\n",
       "        2.61570971,  0.28946653, -1.86019367, -0.5785366 ,  0.59529001,\n",
       "        0.28563426, -0.59302137,  1.26214377, -0.31386967,  0.70799391,\n",
       "       -2.18011841,  1.49406456,  1.55633389, -0.36397641,  1.83069621,\n",
       "        0.18999599, -1.63223357,  0.9672783 , -0.80165781,  1.36140225,\n",
       "        1.25569835,  1.54187201, -0.62474051,  1.46678082, -0.71797809,\n",
       "        0.63987656,  1.00964796, -0.23317273, -0.62734097,  0.63863846,\n",
       "       -0.12436739,  0.97402936, -0.30873416,  0.08959214,  0.24719226,\n",
       "        0.06114782,  0.42421977, -0.37389253, -0.20518909, -0.24210801,\n",
       "        1.38874644,  0.39468907,  0.04404773, -0.58247192, -0.00695964,\n",
       "       -0.16657169,  0.05448276, -1.96623428,  0.27784394,  0.60433912,\n",
       "        0.21230986,  1.18811635, -0.15996873,  3.21066534, -1.35690336,\n",
       "       -2.55907398, -0.98508538,  0.02961518, -0.99059328,  0.10319095])"
      ]
     },
     "execution_count": 52,
     "metadata": {},
     "output_type": "execute_result"
    }
   ],
   "source": [
    "rng.standard_normal(200)"
   ]
  },
  {
   "cell_type": "code",
   "execution_count": 53,
   "metadata": {},
   "outputs": [],
   "source": [
    "low = 1\n",
    "high = 10\n",
    "size = 100000"
   ]
  },
  {
   "cell_type": "code",
   "execution_count": 54,
   "metadata": {},
   "outputs": [
    {
     "data": {
      "text/plain": [
       "array([10,  5,  7, ...,  6,  2,  5], dtype=int64)"
      ]
     },
     "execution_count": 54,
     "metadata": {},
     "output_type": "execute_result"
    }
   ],
   "source": [
    "rand_ints = rng.integers(low=low, high=high+1, size=size)\n",
    "rand_ints"
   ]
  },
  {
   "cell_type": "code",
   "execution_count": 55,
   "metadata": {},
   "outputs": [
    {
     "data": {
      "text/plain": [
       "(array([ 1,  2,  3,  4,  5,  6,  7,  8,  9, 10], dtype=int64),\n",
       " array([ 9896, 10076,  9923, 10074,  9994, 10091,  9943,  9872, 10051,\n",
       "        10080], dtype=int64))"
      ]
     },
     "execution_count": 55,
     "metadata": {},
     "output_type": "execute_result"
    }
   ],
   "source": [
    "x, counts = np.unique(rand_ints, return_counts=True)\n",
    "x, counts"
   ]
  },
  {
   "cell_type": "code",
   "execution_count": 56,
   "metadata": {},
   "outputs": [
    {
     "data": {
      "image/png": "[encoded data removed]",
      "text/plain": [
       "<Figure size 1200x300 with 1 Axes>"
      ]
     },
     "metadata": {},
     "output_type": "display_data"
    }
   ],
   "source": [
    "#bar_plot = plt.subplots(figsize=(12,3))\n",
    "#plt.bar = (x, counts)\n",
    "#plt.show()\n",
    "# Create an empty plot.\n",
    "fig, ax = plt.subplots(figsize=(12, 3))\n",
    "\n",
    "# Plot a bar chart.\n",
    "ax.bar(x, counts);"
   ]
  },
  {
   "cell_type": "code",
   "execution_count": 66,
   "metadata": {},
   "outputs": [],
   "source": [
    "#first = 1\n",
    "#last = 10\n",
    "size = 10000"
   ]
  },
  {
   "cell_type": "code",
   "execution_count": 67,
   "metadata": {},
   "outputs": [
    {
     "data": {
      "text/plain": [
       "array([0.46856541, 0.8164862 , 0.1447285 , ..., 0.45398455, 0.24112132,\n",
       "       0.16926529])"
      ]
     },
     "execution_count": 67,
     "metadata": {},
     "output_type": "execute_result"
    }
   ],
   "source": [
    "rand_floats = rng.random(size)\n",
    "rand_floats"
   ]
  },
  {
   "cell_type": "code",
   "execution_count": 70,
   "metadata": {},
   "outputs": [
    {
     "data": {
      "image/png": "[encoded data removed]",
      "text/plain": [
       "<Figure size 1200x300 with 1 Axes>"
      ]
     },
     "metadata": {},
     "output_type": "display_data"
    }
   ],
   "source": [
    "# Create an empty plot.\n",
    "fig, ax = plt.subplots(figsize=(12, 3))\n",
    "\n",
    "# Plot a histogram chart.\n",
    "ax.hist(rand_floats, bins=20);"
   ]
  },
  {
   "cell_type": "code",
   "execution_count": 77,
   "metadata": {},
   "outputs": [
    {
     "data": {
      "text/plain": [
       "array([-0.24889199, -0.45300378, -0.12761017, ...,  1.09472291,\n",
       "        0.89958258, -0.70312323])"
      ]
     },
     "execution_count": 77,
     "metadata": {},
     "output_type": "execute_result"
    }
   ],
   "source": [
    "size = 100000\n",
    "rand_normal = rng.standard_normal(size)\n",
    "rand_normal"
   ]
  },
  {
   "cell_type": "code",
   "execution_count": 78,
   "metadata": {},
   "outputs": [
    {
     "data": {
      "image/png": "[encoded data removed]",
      "text/plain": [
       "<Figure size 1200x300 with 1 Axes>"
      ]
     },
     "metadata": {},
     "output_type": "display_data"
    }
   ],
   "source": [
    "# Create an empty plot.\n",
    "fig, ax = plt.subplots(figsize=(12, 3))\n",
    "# Plot a histogram chart.\n",
    "ax.hist(rand_normal, bins=);"
   ]
  },
  {
   "cell_type": "markdown",
   "metadata": {},
   "source": [
    "***\n",
    "# END"
   ]
  }
 ],
 "metadata": {
  "kernelspec": {
   "display_name": "Python 3 (ipykernel)",
   "language": "python",
   "name": "python3"
  },
  "language_info": {
   "codemirror_mode": {
    "name": "ipython",
    "version": 3
   },
   "file_extension": ".py",
   "mimetype": "text/x-python",
   "name": "python",
   "nbconvert_exporter": "python",
   "pygments_lexer": "ipython3",
   "version": "3.9.13"
  }
 },
 "nbformat": 4,
 "nbformat_minor": 2
}
